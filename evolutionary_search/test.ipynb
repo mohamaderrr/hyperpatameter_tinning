{
 "cells": [
  {
   "cell_type": "code",
   "execution_count": 2,
   "metadata": {},
   "outputs": [],
   "source": [
    "from sklearn.ensemble import RandomForestClassifier,RandomForestRegressor\n",
    "import numpy as np\n",
    "from sklearn import datasets"
   ]
  },
  {
   "cell_type": "code",
   "execution_count": 3,
   "metadata": {},
   "outputs": [],
   "source": [
    "d = datasets.load_digits()\n",
    "X = d.data\n",
    "y = d.target"
   ]
  },
  {
   "cell_type": "code",
   "execution_count": 4,
   "metadata": {},
   "outputs": [
    {
     "name": "stdout",
     "output_type": "stream",
     "text": [
      "Types [1, 1, 1, 1, 1, 1] and maxint [89, 62, 44, 8, 9, 1] detected\n",
      "--- Evolve in 45927000 possible combinations ---\n",
      "gen\tnevals\tavg     \tmin     \tmax     \tstd      \n",
      "0  \t10    \t0.891987\t0.854758\t0.908737\t0.0167767\n",
      "1  \t6     \t0.90473 \t0.885921\t0.920423\t0.0105021\n",
      "2  \t6     \t0.907346\t0.879243\t0.920423\t0.0122887\n",
      "3  \t6     \t0.91892 \t0.903172\t0.931553\t0.00806056\n",
      "4  \t2     \t0.927212\t0.913745\t0.931553\t0.00618072\n",
      "5  \t7     \t0.93044 \t0.920423\t0.931553\t0.0033389 \n",
      "Best individual is: {'n_estimators': 89, 'max_features': 9, 'max_depth': 22, 'min_samples_split': 5, 'min_samples_leaf': 4, 'criterion': 'gini'}\n",
      "with fitness: 0.9315525876460768\n",
      "{'n_estimators': 89, 'max_features': 9, 'max_depth': 22, 'min_samples_split': 5, 'min_samples_leaf': 4, 'criterion': 'gini'}\n",
      "Accuracy:0.9315525876460768\n"
     ]
    }
   ],
   "source": [
    "#Random Forest\n",
    "from evolutionary_search import EvolutionaryAlgorithmSearchCV\n",
    "# Define the hyperparameter configuration space\n",
    "rf_params = {\n",
    "    'n_estimators': np.logspace(1,1.8,num = 10 ,base=20,dtype='int'),\n",
    "    'max_depth': np.logspace(1,2,num = 10 ,base=10,dtype='int'),\n",
    "    \"max_features\":np.logspace(0.2,1,num = 5 ,base=8,dtype='int'),\n",
    "    \"min_samples_split\":np.logspace(0.4, 1, num=5, base=10, dtype='int'), #[2, 3, 5, 7, 10],\n",
    "    \"min_samples_leaf\":np.logspace(0.1,1,num = 5 ,base=11,dtype='int'),\n",
    "    \"criterion\":['gini','entropy']\n",
    "}\n",
    "rf_params = {\n",
    "    'n_estimators': range(10,100),\n",
    "    \"max_features\":range(1,64),\n",
    "    'max_depth': range(5,50),\n",
    "    \"min_samples_split\":range(2,11),\n",
    "    \"min_samples_leaf\":range(1,11),\n",
    "    #Categorical(name='criterion', categories=['gini','entropy'])#\n",
    "    \"criterion\":['gini','entropy']\n",
    "}\n",
    "clf = RandomForestClassifier(random_state=0)\n",
    "# Set the hyperparameters of GA \n",
    "ga1 = EvolutionaryAlgorithmSearchCV(estimator=clf,\n",
    "                                   params=rf_params,\n",
    "                                   scoring=\"accuracy\",\n",
    "                                   cv=3,\n",
    "                                   verbose=1,\n",
    "                                   population_size=10,\n",
    "                                   gene_mutation_prob=0.10,\n",
    "                                   gene_crossover_prob=0.5,\n",
    "                                   tournament_size=3,\n",
    "                                   generations_number=5,\n",
    "                                   n_jobs=1)\n",
    "ga1.fit(X, y)\n",
    "print(ga1.best_params_)\n",
    "print(\"Accuracy:\"+ str(ga1.best_score_))"
   ]
  }
 ],
 "metadata": {
  "kernelspec": {
   "display_name": "base",
   "language": "python",
   "name": "python3"
  },
  "language_info": {
   "codemirror_mode": {
    "name": "ipython",
    "version": 3
   },
   "file_extension": ".py",
   "mimetype": "text/x-python",
   "name": "python",
   "nbconvert_exporter": "python",
   "pygments_lexer": "ipython3",
   "version": "3.9.12"
  },
  "orig_nbformat": 4
 },
 "nbformat": 4,
 "nbformat_minor": 2
}
